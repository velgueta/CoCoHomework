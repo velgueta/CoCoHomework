{
 "cells": [
  {
   "cell_type": "markdown",
   "id": "5324b1a0-751e-49d8-b7db-7cc37e3357f2",
   "metadata": {},
   "source": [
    "Main Task | Tarea principal\n",
    "In this opportunity, we share with you a DataFrame with the bathymetry and gravity disturbance profile of the island of Oahu in Hawaii.\n",
    "\n",
    "Steps:Load the file.\n",
    "Clean the DataFrame:\n",
    "Remove NaN values, if any\n",
    "Remove duplicate rows, if any\n",
    "Fix other problems like out of range values\n",
    "Plot the gravity disturbance & distance and the bathymetry & distance using subplot. Make the plot as if you were going to use it for a scientific article"
   ]
  },
  {
   "cell_type": "code",
   "execution_count": 1,
   "id": "b7d68477-7c87-48b2-923c-f9373d0389ce",
   "metadata": {},
   "outputs": [],
   "source": [
    "import pandas as pd\n",
    "from pathlib import Path\n",
    "import matplotlib.pyplot as plt"
   ]
  },
  {
   "cell_type": "code",
   "execution_count": 4,
   "id": "0a145bf7-bce2-4def-99e2-e8688233b979",
   "metadata": {},
   "outputs": [],
   "source": [
    "# Path to the file | Ruta al archivo\n",
    "\n",
    "data_folder = Path('../CoCoLessons/data/')\n"
   ]
  },
  {
   "cell_type": "code",
   "execution_count": 5,
   "id": "d7a0432d-78e3-4095-876e-8f46309e0ad0",
   "metadata": {},
   "outputs": [],
   "source": [
    "# Open the file | Abrimos el archivo\n",
    "data = pd.read_csv(data_folder /'hawaii-profile.csv')"
   ]
  },
  {
   "cell_type": "code",
   "execution_count": 6,
   "id": "a8fff8d0-0f77-44ce-9a81-7b59b4bd03f5",
   "metadata": {},
   "outputs": [
    {
     "data": {
      "text/html": [
       "<div>\n",
       "<style scoped>\n",
       "    .dataframe tbody tr th:only-of-type {\n",
       "        vertical-align: middle;\n",
       "    }\n",
       "\n",
       "    .dataframe tbody tr th {\n",
       "        vertical-align: top;\n",
       "    }\n",
       "\n",
       "    .dataframe thead th {\n",
       "        text-align: right;\n",
       "    }\n",
       "</style>\n",
       "<table border=\"1\" class=\"dataframe\">\n",
       "  <thead>\n",
       "    <tr style=\"text-align: right;\">\n",
       "      <th></th>\n",
       "      <th>latitude</th>\n",
       "      <th>longitude</th>\n",
       "      <th>distance_km</th>\n",
       "      <th>topography_km</th>\n",
       "      <th>disturbance_mgal</th>\n",
       "    </tr>\n",
       "  </thead>\n",
       "  <tbody>\n",
       "    <tr>\n",
       "      <th>0</th>\n",
       "      <td>13.000000</td>\n",
       "      <td>-165.000000</td>\n",
       "      <td>0.000000</td>\n",
       "      <td>-4.161000</td>\n",
       "      <td>23.008098</td>\n",
       "    </tr>\n",
       "    <tr>\n",
       "      <th>1</th>\n",
       "      <td>13.082915</td>\n",
       "      <td>-164.929648</td>\n",
       "      <td>12.070042</td>\n",
       "      <td>-4.747907</td>\n",
       "      <td>21.180807</td>\n",
       "    </tr>\n",
       "    <tr>\n",
       "      <th>2</th>\n",
       "      <td>13.165829</td>\n",
       "      <td>-164.859296</td>\n",
       "      <td>24.140085</td>\n",
       "      <td>-5.452608</td>\n",
       "      <td>18.099661</td>\n",
       "    </tr>\n",
       "    <tr>\n",
       "      <th>3</th>\n",
       "      <td>13.248744</td>\n",
       "      <td>-164.788945</td>\n",
       "      <td>36.210127</td>\n",
       "      <td>-5.581402</td>\n",
       "      <td>14.372280</td>\n",
       "    </tr>\n",
       "    <tr>\n",
       "      <th>4</th>\n",
       "      <td>13.331658</td>\n",
       "      <td>-164.718593</td>\n",
       "      <td>48.280170</td>\n",
       "      <td>-5.438978</td>\n",
       "      <td>10.606283</td>\n",
       "    </tr>\n",
       "  </tbody>\n",
       "</table>\n",
       "</div>"
      ],
      "text/plain": [
       "    latitude   longitude  distance_km  topography_km  disturbance_mgal\n",
       "0  13.000000 -165.000000     0.000000      -4.161000         23.008098\n",
       "1  13.082915 -164.929648    12.070042      -4.747907         21.180807\n",
       "2  13.165829 -164.859296    24.140085      -5.452608         18.099661\n",
       "3  13.248744 -164.788945    36.210127      -5.581402         14.372280\n",
       "4  13.331658 -164.718593    48.280170      -5.438978         10.606283"
      ]
     },
     "execution_count": 6,
     "metadata": {},
     "output_type": "execute_result"
    }
   ],
   "source": [
    "data.head()"
   ]
  },
  {
   "cell_type": "code",
   "execution_count": 7,
   "id": "b1675183-7264-4069-b65c-eaa21fda2d5b",
   "metadata": {},
   "outputs": [
    {
     "data": {
      "text/plain": [
       "(212, 5)"
      ]
     },
     "execution_count": 7,
     "metadata": {},
     "output_type": "execute_result"
    }
   ],
   "source": [
    "data.shape"
   ]
  },
  {
   "cell_type": "code",
   "execution_count": 8,
   "id": "e09eda0e-dde8-4616-b2d1-8aa53b629d1a",
   "metadata": {},
   "outputs": [
    {
     "data": {
      "text/plain": [
       "True"
      ]
     },
     "execution_count": 8,
     "metadata": {},
     "output_type": "execute_result"
    }
   ],
   "source": [
    "data.isnull().values.any()"
   ]
  },
  {
   "cell_type": "code",
   "execution_count": 9,
   "id": "7aae1f62-51c5-46f5-982c-f47e82294b90",
   "metadata": {},
   "outputs": [
    {
     "data": {
      "text/plain": [
       "(206, 5)"
      ]
     },
     "execution_count": 9,
     "metadata": {},
     "output_type": "execute_result"
    }
   ],
   "source": [
    "#SACANDO LOS VALORES NAN\n",
    "data = data.dropna()\n",
    "\n",
    "data.shape"
   ]
  },
  {
   "cell_type": "code",
   "execution_count": 11,
   "id": "e5fad88c-f479-4bd6-83f3-3bafdc1d7b3a",
   "metadata": {},
   "outputs": [
    {
     "data": {
      "text/plain": [
       "(201, 5)"
      ]
     },
     "execution_count": 11,
     "metadata": {},
     "output_type": "execute_result"
    }
   ],
   "source": [
    "data = data.drop_duplicates()\n",
    "data.shape"
   ]
  },
  {
   "cell_type": "code",
   "execution_count": 18,
   "id": "8e0fe5ae-4447-4d2f-bd4d-2eff162300bb",
   "metadata": {},
   "outputs": [
    {
     "data": {
      "text/plain": [
       "Text(0.5, 1.0, 'topography versus distance')"
      ]
     },
     "execution_count": 18,
     "metadata": {},
     "output_type": "execute_result"
    },
    {
     "data": {
      "image/png": "[encoded data removed]",
      "text/plain": [
       "<Figure size 1080x360 with 2 Axes>"
      ]
     },
     "metadata": {
      "needs_background": "light"
     },
     "output_type": "display_data"
    }
   ],
   "source": [
    "#plot with subplots\n",
    "names = [\"disturbance_mgal\", \"distance_km\", \"topography_km\"]\n",
    "\n",
    "fig, (ax1,ax2) = plt.subplots(nrows=1, ncols=2, sharex=True, figsize=(15, 5))\n",
    "ax1.plot(data[names[1]],data[names[0]])\n",
    "ax1.set_title('disturbance versus distance')\n",
    "ax2.plot(data[names[1]],data[names[2]])\n",
    "ax2.set_title('topography versus distance')\n",
    "\n",
    "\n",
    "\n",
    "\n"
   ]
  },
  {
   "cell_type": "code",
   "execution_count": null,
   "id": "f6edc5e5-c3e7-41ec-af3f-662d183e3ebf",
   "metadata": {},
   "outputs": [],
   "source": []
  }
 ],
 "metadata": {
  "kernelspec": {
   "display_name": "CoCo",
   "language": "python",
   "name": "coco"
  },
  "language_info": {
   "codemirror_mode": {
    "name": "ipython",
    "version": 3
   },
   "file_extension": ".py",
   "mimetype": "text/x-python",
   "name": "python",
   "nbconvert_exporter": "python",
   "pygments_lexer": "ipython3",
   "version": "3.10.4"
  }
 },
 "nbformat": 4,
 "nbformat_minor": 5
}
