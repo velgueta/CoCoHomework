{
 "cells": [
  {
   "cell_type": "code",
   "execution_count": null,
   "id": "5278ccaf-af50-488e-afa9-f3faca148f17",
   "metadata": {},
   "outputs": [],
   "source": [
    "#test2500"
   ]
  }
 ],
 "metadata": {
  "kernelspec": {
   "display_name": "CoCo",
   "language": "python",
   "name": "coco"
  },
  "language_info": {
   "codemirror_mode": {
    "name": "ipython",
    "version": 3
   },
   "file_extension": ".py",
   "mimetype": "text/x-python",
   "name": "python",
   "nbconvert_exporter": "python",
   "pygments_lexer": "ipython3",
   "version": "3.10.4"
  }
 },
 "nbformat": 4,
 "nbformat_minor": 5
}
